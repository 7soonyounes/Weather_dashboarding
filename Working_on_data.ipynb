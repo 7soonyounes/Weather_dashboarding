{
 "cells": [
  {
   "cell_type": "code",
   "execution_count": 1,
   "metadata": {},
   "outputs": [],
   "source": [
    "import pandas as pd\n",
    "import numpy as np"
   ]
  },
  {
   "cell_type": "code",
   "execution_count": 3,
   "metadata": {},
   "outputs": [],
   "source": [
    "# read output1 creating headers with a loist of strings creating new indexes\n",
    "df = pd.read_csv('r.csv', header=None,index_col=False, names=['Day','Average_temp','Avg_press','Avg_wind_speed','Minimal_temp','Max_temp','Press_min','Press_max','Wind_min','Wind_max'])"
   ]
  },
  {
   "cell_type": "code",
   "execution_count": 4,
   "metadata": {},
   "outputs": [],
   "source": [
    "# minimnal_temp and Max_temp to float \n",
    "df['Minimal_temp'] = df['Minimal_temp'].astype(float)\n",
    "df['Max_temp'] = df['Max_temp'].astype(float)"
   ]
  },
  {
   "cell_type": "code",
   "execution_count": 5,
   "metadata": {},
   "outputs": [],
   "source": [
    "df.to_excel('output.xlsx', index=False)"
   ]
  },
  {
   "cell_type": "code",
   "execution_count": 6,
   "metadata": {},
   "outputs": [
    {
     "data": {
      "text/html": [
       "<div>\n",
       "<style scoped>\n",
       "    .dataframe tbody tr th:only-of-type {\n",
       "        vertical-align: middle;\n",
       "    }\n",
       "\n",
       "    .dataframe tbody tr th {\n",
       "        vertical-align: top;\n",
       "    }\n",
       "\n",
       "    .dataframe thead th {\n",
       "        text-align: right;\n",
       "    }\n",
       "</style>\n",
       "<table border=\"1\" class=\"dataframe\">\n",
       "  <thead>\n",
       "    <tr style=\"text-align: right;\">\n",
       "      <th></th>\n",
       "      <th>Day</th>\n",
       "      <th>Average_temp</th>\n",
       "      <th>Avg_press</th>\n",
       "      <th>Avg_wind_speed</th>\n",
       "      <th>Minimal_temp</th>\n",
       "      <th>Max_temp</th>\n",
       "      <th>Press_min</th>\n",
       "      <th>Press_max</th>\n",
       "      <th>Wind_min</th>\n",
       "      <th>Wind_max</th>\n",
       "    </tr>\n",
       "  </thead>\n",
       "  <tbody>\n",
       "    <tr>\n",
       "      <th>0</th>\n",
       "      <td>1980-01-01</td>\n",
       "      <td>15.428571</td>\n",
       "      <td>1024.171429</td>\n",
       "      <td>5.200000</td>\n",
       "      <td>15.0</td>\n",
       "      <td>16.0</td>\n",
       "      <td>1022.8</td>\n",
       "      <td>1025.4</td>\n",
       "      <td>4.1</td>\n",
       "      <td>7.2</td>\n",
       "    </tr>\n",
       "    <tr>\n",
       "      <th>1</th>\n",
       "      <td>1980-01-02</td>\n",
       "      <td>14.642857</td>\n",
       "      <td>1024.242857</td>\n",
       "      <td>4.978571</td>\n",
       "      <td>12.0</td>\n",
       "      <td>16.0</td>\n",
       "      <td>1022.8</td>\n",
       "      <td>1025.4</td>\n",
       "      <td>3.6</td>\n",
       "      <td>7.2</td>\n",
       "    </tr>\n",
       "    <tr>\n",
       "      <th>2</th>\n",
       "      <td>1980-01-03</td>\n",
       "      <td>13.190476</td>\n",
       "      <td>1024.104762</td>\n",
       "      <td>4.552381</td>\n",
       "      <td>7.0</td>\n",
       "      <td>17.0</td>\n",
       "      <td>1021.9</td>\n",
       "      <td>1025.4</td>\n",
       "      <td>2.1</td>\n",
       "      <td>7.2</td>\n",
       "    </tr>\n",
       "    <tr>\n",
       "      <th>3</th>\n",
       "      <td>1980-01-04</td>\n",
       "      <td>12.750000</td>\n",
       "      <td>1023.714286</td>\n",
       "      <td>4.214286</td>\n",
       "      <td>7.0</td>\n",
       "      <td>17.0</td>\n",
       "      <td>1021.8</td>\n",
       "      <td>1025.4</td>\n",
       "      <td>0.0</td>\n",
       "      <td>7.2</td>\n",
       "    </tr>\n",
       "    <tr>\n",
       "      <th>4</th>\n",
       "      <td>1980-01-05</td>\n",
       "      <td>12.657143</td>\n",
       "      <td>1023.688571</td>\n",
       "      <td>3.542857</td>\n",
       "      <td>7.0</td>\n",
       "      <td>17.0</td>\n",
       "      <td>1021.8</td>\n",
       "      <td>1025.4</td>\n",
       "      <td>0.0</td>\n",
       "      <td>7.2</td>\n",
       "    </tr>\n",
       "  </tbody>\n",
       "</table>\n",
       "</div>"
      ],
      "text/plain": [
       "          Day  Average_temp    Avg_press  Avg_wind_speed  Minimal_temp  \\\n",
       "0  1980-01-01     15.428571  1024.171429        5.200000          15.0   \n",
       "1  1980-01-02     14.642857  1024.242857        4.978571          12.0   \n",
       "2  1980-01-03     13.190476  1024.104762        4.552381           7.0   \n",
       "3  1980-01-04     12.750000  1023.714286        4.214286           7.0   \n",
       "4  1980-01-05     12.657143  1023.688571        3.542857           7.0   \n",
       "\n",
       "   Max_temp  Press_min  Press_max  Wind_min  Wind_max  \n",
       "0      16.0     1022.8     1025.4       4.1       7.2  \n",
       "1      16.0     1022.8     1025.4       3.6       7.2  \n",
       "2      17.0     1021.9     1025.4       2.1       7.2  \n",
       "3      17.0     1021.8     1025.4       0.0       7.2  \n",
       "4      17.0     1021.8     1025.4       0.0       7.2  "
      ]
     },
     "execution_count": 6,
     "metadata": {},
     "output_type": "execute_result"
    }
   ],
   "source": [
    "df.head()"
   ]
  },
  {
   "cell_type": "code",
   "execution_count": 7,
   "metadata": {},
   "outputs": [
    {
     "data": {
      "text/plain": [
       "(15961, 10)"
      ]
     },
     "execution_count": 7,
     "metadata": {},
     "output_type": "execute_result"
    }
   ],
   "source": [
    "df.shape"
   ]
  }
 ],
 "metadata": {
  "kernelspec": {
   "display_name": "Python 3 (ipykernel)",
   "language": "python",
   "name": "python3"
  },
  "language_info": {
   "codemirror_mode": {
    "name": "ipython",
    "version": 3
   },
   "file_extension": ".py",
   "mimetype": "text/x-python",
   "name": "python",
   "nbconvert_exporter": "python",
   "pygments_lexer": "ipython3",
   "version": "3.9.12"
  }
 },
 "nbformat": 4,
 "nbformat_minor": 2
}
