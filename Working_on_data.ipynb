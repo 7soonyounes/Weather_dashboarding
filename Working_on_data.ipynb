{
 "cells": [
  {
   "cell_type": "code",
   "execution_count": 2,
   "metadata": {},
   "outputs": [],
   "source": [
    "import pandas as pd\n",
    "import numpy as np"
   ]
  },
  {
   "cell_type": "code",
   "execution_count": 14,
   "metadata": {},
   "outputs": [],
   "source": [
    "# read output1 creating headers with a loist of strings creating new indexes\n",
    "df = pd.read_csv('output1.csv', header=None,index_col=False, names=['Day','Average_temp','Avg_press','Avg_wind_speed','Minimal_temp','Max_temp','Press_min','Press_max','Wind_min','Wind_max'])"
   ]
  },
  {
   "cell_type": "code",
   "execution_count": 17,
   "metadata": {},
   "outputs": [],
   "source": [
    "df.head()\n",
    "# minimnal_temp and Max_temp to float \n",
    "df['Minimal_temp'] = df['Minimal_temp'].astype(float)\n",
    "df['Max_temp'] = df['Max_temp'].astype(float)"
   ]
  },
  {
   "cell_type": "code",
   "execution_count": 20,
   "metadata": {},
   "outputs": [],
   "source": [
    "# split df  to halfs and export to excel \n",
    "df1 = df.iloc[:len(df)//2]\n",
    "df2 = df.iloc[len(df)//2:]\n",
    "df1.to_excel('output1_1.xlsx', index=False)\n",
    "df2.to_excel('output1_2.xlsx', index=False)"
   ]
  },
  {
   "cell_type": "code",
   "execution_count": 19,
   "metadata": {},
   "outputs": [
    {
     "data": {
      "text/plain": [
       "(15961, 10)"
      ]
     },
     "execution_count": 19,
     "metadata": {},
     "output_type": "execute_result"
    }
   ],
   "source": [
    "df.shape"
   ]
  },
  {
   "cell_type": "code",
   "execution_count": null,
   "metadata": {},
   "outputs": [],
   "source": []
  }
 ],
 "metadata": {
  "kernelspec": {
   "display_name": "Python 3",
   "language": "python",
   "name": "python3"
  },
  "language_info": {
   "codemirror_mode": {
    "name": "ipython",
    "version": 3
   },
   "file_extension": ".py",
   "mimetype": "text/x-python",
   "name": "python",
   "nbconvert_exporter": "python",
   "pygments_lexer": "ipython3",
   "version": "3.10.5"
  }
 },
 "nbformat": 4,
 "nbformat_minor": 2
}
